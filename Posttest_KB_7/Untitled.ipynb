{
 "cells": [
  {
   "cell_type": "code",
   "execution_count": 1,
   "id": "591334cb-85e0-4a77-81bc-0948364f8f32",
   "metadata": {},
   "outputs": [],
   "source": [
    "import numpy as np\n",
    "import tensorflow as tf"
   ]
  },
  {
   "cell_type": "markdown",
   "id": "9b483650-35c5-4f7a-ac09-d06dc5471165",
   "metadata": {},
   "source": [
    "## Membuat tensor shape (5,5) dengan nilai random = variable random_tensor"
   ]
  },
  {
   "cell_type": "code",
   "execution_count": 4,
   "id": "c475c2a4-a6e2-41df-a04f-9622389724d3",
   "metadata": {},
   "outputs": [
    {
     "data": {
      "text/plain": [
       "array([[-0.28433853,  0.8922832 ,  0.8983451 ,  0.7163981 ,  0.34969485],\n",
       "       [-0.37960768,  0.01531979,  0.27423722, -2.214901  , -0.08514621],\n",
       "       [ 1.0113182 ,  0.6616626 ,  1.383323  , -0.40465203,  0.86142987],\n",
       "       [-0.12589967, -1.418615  ,  2.0295074 ,  0.15304402,  0.13658497],\n",
       "       [-0.49787143,  0.38847125, -0.4244715 ,  0.46214256, -0.5444318 ]],\n",
       "      dtype=float32)"
      ]
     },
     "execution_count": 4,
     "metadata": {},
     "output_type": "execute_result"
    }
   ],
   "source": [
    "random_tensor = tf.Variable(tf.random.normal([5,5], mean=0, stddev=1, dtype=tf.float32, seed=1))\n",
    "random_tensor.numpy()"
   ]
  },
  {
   "cell_type": "markdown",
   "id": "006069f7-2f4a-4c2c-8a48-e168ebcd6731",
   "metadata": {},
   "source": [
    "## Membuat tensor shape (5,5) dengan nilai bilangan prima = variable prime_tensor"
   ]
  },
  {
   "cell_type": "code",
   "execution_count": 7,
   "id": "be66205b-0697-4bde-902d-e54999f6ba37",
   "metadata": {},
   "outputs": [
    {
     "data": {
      "text/plain": [
       "array([[ 2.,  3.,  5.,  7., 11.],\n",
       "       [13., 17., 19., 23., 29.],\n",
       "       [31., 37., 41., 43., 47.],\n",
       "       [53., 59., 61., 67., 71.],\n",
       "       [73., 79., 83., 89., 97.]], dtype=float32)"
      ]
     },
     "execution_count": 7,
     "metadata": {},
     "output_type": "execute_result"
    }
   ],
   "source": [
    "listprima = [[2,3,5,7,11],[13,17,19,23,29],[31,37,41,43,47],[53,59,61,67,71],[73,79,83,89,97]]\n",
    "\n",
    "prime_tensor = tf.Variable((tf.convert_to_tensor(listprima, dtype=tf.float32)))\n",
    "prime_tensor.numpy()"
   ]
  },
  {
   "cell_type": "markdown",
   "id": "4589016f-481c-4711-919e-a11eabc55a59",
   "metadata": {},
   "source": [
    "## Mempilkan dimensi dua variabel di atas"
   ]
  },
  {
   "cell_type": "code",
   "execution_count": 8,
   "id": "c2b00cd8-597f-4394-a765-6b6b8755b4bc",
   "metadata": {},
   "outputs": [
    {
     "name": "stdout",
     "output_type": "stream",
     "text": [
      "(5, 5)\n",
      "(5, 5)\n"
     ]
    }
   ],
   "source": [
    "print(random_tensor.shape)\n",
    "print(prime_tensor.shape)"
   ]
  },
  {
   "cell_type": "markdown",
   "id": "87f0c023-3982-4c1a-9016-1139d5223759",
   "metadata": {},
   "source": [
    "## PERHITUNGAN ARITMETIKA"
   ]
  },
  {
   "cell_type": "markdown",
   "id": "2ed886b9-7900-4f52-997b-6e0faedf0db9",
   "metadata": {},
   "source": [
    "## Penjumlahan"
   ]
  },
  {
   "cell_type": "code",
   "execution_count": 9,
   "id": "4dd2d782-47ad-4e68-bb38-32790eb83ac4",
   "metadata": {},
   "outputs": [
    {
     "name": "stdout",
     "output_type": "stream",
     "text": [
      "tf.Tensor(\n",
      "[[ 1.7156615  3.8922832  5.898345   7.7163982 11.349695 ]\n",
      " [12.620392  17.01532   19.274237  20.785099  28.914854 ]\n",
      " [32.01132   37.661663  42.383324  42.59535   47.86143  ]\n",
      " [52.8741    57.581387  63.029507  67.153046  71.13658  ]\n",
      " [72.50213   79.38847   82.57553   89.46214   96.45557  ]], shape=(5, 5), dtype=float32)\n"
     ]
    }
   ],
   "source": [
    "print(tf.add(random_tensor, prime_tensor))"
   ]
  },
  {
   "cell_type": "markdown",
   "id": "105e4444-82ec-4f5b-969c-f6ab0a12549a",
   "metadata": {},
   "source": [
    "## Pengurangan"
   ]
  },
  {
   "cell_type": "code",
   "execution_count": 10,
   "id": "99c9a5b0-7d7a-4f44-be8b-7920e5d46f83",
   "metadata": {},
   "outputs": [
    {
     "name": "stdout",
     "output_type": "stream",
     "text": [
      "tf.Tensor(\n",
      "[[ -2.2843385  -2.1077168  -4.101655   -6.2836018 -10.650305 ]\n",
      " [-13.379608  -16.98468   -18.725763  -25.214901  -29.085146 ]\n",
      " [-29.988682  -36.338337  -39.616676  -43.40465   -46.13857  ]\n",
      " [-53.1259    -60.418613  -58.970493  -66.846954  -70.86342  ]\n",
      " [-73.49787   -78.61153   -83.42447   -88.53786   -97.54443  ]], shape=(5, 5), dtype=float32)\n"
     ]
    }
   ],
   "source": [
    "print(tf.subtract(random_tensor, prime_tensor))"
   ]
  },
  {
   "cell_type": "markdown",
   "id": "7bfae779-9e18-4eda-b078-ba4330fd989f",
   "metadata": {},
   "source": [
    "## Perkalian"
   ]
  },
  {
   "cell_type": "code",
   "execution_count": 11,
   "id": "d4210863-597d-4e88-9c45-660ee2deed0e",
   "metadata": {},
   "outputs": [
    {
     "name": "stdout",
     "output_type": "stream",
     "text": [
      "tf.Tensor(\n",
      "[[ -0.56867707   2.6768496    4.4917254    5.0147867    3.8466434 ]\n",
      " [ -4.9349       0.2604365    5.210507   -50.942722    -2.4692402 ]\n",
      " [ 31.350864    24.481516    56.71624    -17.400038    40.487206  ]\n",
      " [ -6.672683   -83.69828    123.79995     10.253949     9.697533  ]\n",
      " [-36.344616    30.689228   -35.231133    41.130688   -52.809887  ]], shape=(5, 5), dtype=float32)\n"
     ]
    }
   ],
   "source": [
    "print(tf.multiply(random_tensor, prime_tensor))"
   ]
  },
  {
   "cell_type": "markdown",
   "id": "d53b4a5f-bf87-43e7-a4f0-406dcdd4d9bc",
   "metadata": {},
   "source": [
    "## Pembagian"
   ]
  },
  {
   "cell_type": "code",
   "execution_count": 12,
   "id": "c971d5de-c6e0-4189-a007-030af8b64d41",
   "metadata": {},
   "outputs": [
    {
     "name": "stdout",
     "output_type": "stream",
     "text": [
      "tf.Tensor(\n",
      "[[-0.14216927  0.29742774  0.17966902  0.10234259  0.03179044]\n",
      " [-0.02920059  0.00090116  0.01443354 -0.09630004 -0.00293608]\n",
      " [ 0.03262317  0.01788277  0.03373959 -0.00941051  0.0183283 ]\n",
      " [-0.00237547 -0.02404432  0.03327061  0.00228424  0.00192373]\n",
      " [-0.00682016  0.00491736 -0.00511411  0.00519261 -0.0056127 ]], shape=(5, 5), dtype=float32)\n"
     ]
    }
   ],
   "source": [
    "print(tf.divide(random_tensor, prime_tensor))"
   ]
  },
  {
   "cell_type": "markdown",
   "id": "1a84dd6f-ac31-46bc-a864-e2acbe3e6690",
   "metadata": {},
   "source": [
    "## Pemangkatan"
   ]
  },
  {
   "cell_type": "code",
   "execution_count": 13,
   "id": "ed4bf68d-4d4f-47fe-9990-2f93f6f3c5dd",
   "metadata": {},
   "outputs": [
    {
     "name": "stdout",
     "output_type": "stream",
     "text": [
      "tf.Tensor(\n",
      "[[ 8.08484033e-02  7.10408509e-01  5.85081041e-01  9.68458578e-02\n",
      "   9.56272288e-06]\n",
      " [-3.39902863e-06  1.41026244e-31  2.11057803e-11 -8.77302160e+07\n",
      "  -9.43614219e-32]\n",
      " [ 1.41749847e+00  2.30968737e-07  5.99607312e+05 -1.27207896e-17\n",
      "   9.02270083e-04]\n",
      " [-0.00000000e+00 -9.12027648e+08  5.63415762e+18  0.00000000e+00\n",
      "   0.00000000e+00]\n",
      " [-7.75453741e-23  3.62536196e-33 -1.29249318e-31  1.46238155e-30\n",
      "  -2.43510900e-26]], shape=(5, 5), dtype=float32)\n"
     ]
    }
   ],
   "source": [
    "print(tf.pow(random_tensor, prime_tensor))"
   ]
  },
  {
   "cell_type": "markdown",
   "id": "bea2f300-b138-4b05-bec5-49b35d44aeb0",
   "metadata": {},
   "source": [
    "## Menampilkan nilai max dan min dari variabel random tensor"
   ]
  },
  {
   "cell_type": "code",
   "execution_count": 14,
   "id": "0f9daad7-7477-47c2-8d7e-d14380d66957",
   "metadata": {},
   "outputs": [
    {
     "name": "stdout",
     "output_type": "stream",
     "text": [
      "Nilai Max bedasarkan kolom :  [2 0 3 0 2]\n"
     ]
    }
   ],
   "source": [
    "print(\"Nilai Max bedasarkan kolom : \",tf.argmax(random_tensor, axis=0).numpy())"
   ]
  },
  {
   "cell_type": "code",
   "execution_count": 16,
   "id": "c54f8043-1824-4740-a8c2-b31f9e64e5f8",
   "metadata": {},
   "outputs": [
    {
     "data": {
      "text/plain": [
       "array([2, 0, 3, 0, 2], dtype=int64)"
      ]
     },
     "execution_count": 16,
     "metadata": {},
     "output_type": "execute_result"
    }
   ],
   "source": [
    "tf.argmax(random_tensor, axis=0).numpy()"
   ]
  },
  {
   "cell_type": "code",
   "execution_count": 19,
   "id": "7d6eadc8-621c-4a3b-825f-c648654a3704",
   "metadata": {},
   "outputs": [
    {
     "name": "stdout",
     "output_type": "stream",
     "text": [
      "Nilai Max bedasarkan baris :  [2 2 2 2 3]\n"
     ]
    }
   ],
   "source": [
    "print(\"Nilai Max bedasarkan baris : \",tf.argmax(random_tensor, axis=1).numpy())"
   ]
  },
  {
   "cell_type": "code",
   "execution_count": 21,
   "id": "2a5bace4-f7f1-412f-9874-f2f961507ebe",
   "metadata": {},
   "outputs": [
    {
     "name": "stdout",
     "output_type": "stream",
     "text": [
      "Nilai min bedasarkan kolom :  [4 3 4 1 4]\n"
     ]
    }
   ],
   "source": [
    "print(\"Nilai min bedasarkan kolom : \",tf.argmin(random_tensor, axis=0).numpy())"
   ]
  },
  {
   "cell_type": "code",
   "execution_count": 22,
   "id": "d2d2c57f-1e49-4a58-b505-cf95512f4445",
   "metadata": {},
   "outputs": [
    {
     "name": "stdout",
     "output_type": "stream",
     "text": [
      "Nilai min bedasarkan baris :  [0 3 3 1 4]\n"
     ]
    }
   ],
   "source": [
    "print(\"Nilai min bedasarkan baris : \",tf.argmin(random_tensor, axis=1).numpy())"
   ]
  },
  {
   "cell_type": "markdown",
   "id": "b0e1cbcd-a9bc-4939-a6cc-8662803e4cf6",
   "metadata": {},
   "source": [
    "## Menampikan hasil penggabungan variable random_tensor dengan prime_tensor (concatenation)"
   ]
  },
  {
   "cell_type": "code",
   "execution_count": 24,
   "id": "71797f32-4606-42bd-a456-680454cdeceb",
   "metadata": {},
   "outputs": [
    {
     "name": "stdout",
     "output_type": "stream",
     "text": [
      "Size Awal Sebelum Concat : (5, 5) (5, 5)\n"
     ]
    }
   ],
   "source": [
    "print(f\"Size Awal Sebelum Concat : {random_tensor.shape} {prime_tensor.shape}\" )"
   ]
  },
  {
   "cell_type": "code",
   "execution_count": 26,
   "id": "3f7c93c8-a7f6-4fa8-a97f-75075ac0ca48",
   "metadata": {},
   "outputs": [
    {
     "name": "stdout",
     "output_type": "stream",
     "text": [
      "Size yang sudah di concat kolom (axis = 0) : (10, 5)\n",
      "Size yang sudah di concat baris (axis = 1) : (5, 10)\n"
     ]
    }
   ],
   "source": [
    "concat_tensor_1 = tf.concat([random_tensor, prime_tensor], axis=0)\n",
    "concat_tensor_2 = tf.concat([random_tensor, prime_tensor], axis=1)\n",
    "print(f\"Size yang sudah di concat kolom (axis = 0) : {concat_tensor_1.shape}\")\n",
    "print(f\"Size yang sudah di concat baris (axis = 1) : {concat_tensor_2.shape}\")"
   ]
  },
  {
   "cell_type": "markdown",
   "id": "9d961a37-7388-485e-a366-75009699e4a5",
   "metadata": {},
   "source": [
    "## Menampilkan hasil sorting secara descending dari dua variabel diatas"
   ]
  },
  {
   "cell_type": "code",
   "execution_count": 27,
   "id": "9d28a88a-924f-450b-87a4-039768dc6f20",
   "metadata": {},
   "outputs": [
    {
     "name": "stdout",
     "output_type": "stream",
     "text": [
      "tf.Tensor(\n",
      "[[ 0.8983451   0.8922832   0.7163981   0.34969485 -0.28433853]\n",
      " [ 0.27423722  0.01531979 -0.08514621 -0.37960768 -2.214901  ]\n",
      " [ 1.383323    1.0113182   0.86142987  0.6616626  -0.40465203]\n",
      " [ 2.0295074   0.15304402  0.13658497 -0.12589967 -1.418615  ]\n",
      " [ 0.46214256  0.38847125 -0.4244715  -0.49787143 -0.5444318 ]], shape=(5, 5), dtype=float32)\n"
     ]
    }
   ],
   "source": [
    "print(tf.sort(random_tensor, direction=\"DESCENDING\"))"
   ]
  },
  {
   "cell_type": "code",
   "execution_count": 28,
   "id": "95884edb-8bf1-44d6-b7ec-8cca9f0ed5cd",
   "metadata": {},
   "outputs": [
    {
     "name": "stdout",
     "output_type": "stream",
     "text": [
      "tf.Tensor(\n",
      "[[11.  7.  5.  3.  2.]\n",
      " [29. 23. 19. 17. 13.]\n",
      " [47. 43. 41. 37. 31.]\n",
      " [71. 67. 61. 59. 53.]\n",
      " [97. 89. 83. 79. 73.]], shape=(5, 5), dtype=float32)\n"
     ]
    }
   ],
   "source": [
    "\n",
    "print(tf.sort(prime_tensor, direction=\"DESCENDING\"))"
   ]
  }
 ],
 "metadata": {
  "kernelspec": {
   "display_name": "Python 3 (ipykernel)",
   "language": "python",
   "name": "python3"
  },
  "language_info": {
   "codemirror_mode": {
    "name": "ipython",
    "version": 3
   },
   "file_extension": ".py",
   "mimetype": "text/x-python",
   "name": "python",
   "nbconvert_exporter": "python",
   "pygments_lexer": "ipython3",
   "version": "3.10.7"
  }
 },
 "nbformat": 4,
 "nbformat_minor": 5
}
